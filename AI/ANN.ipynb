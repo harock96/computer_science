{
 "cells": [
  {
   "cell_type": "code",
   "execution_count": 15,
   "metadata": {},
   "outputs": [],
   "source": [
    "import pandas as pd\n",
    "import numpy as np\n",
    "import matplotlib.pyplot as plt\n",
    "from sklearn.preprocessing import *\n",
    "from tensorflow import keras\n",
    "import tensorflow as tf\n",
    "from collections import Counter\n",
    "from imblearn.over_sampling import RandomOverSampler\n",
    "from imblearn.over_sampling import ADASYN\n",
    "from imblearn.over_sampling import SMOTE\n",
    "\n",
    "over_sampler = RandomOverSampler()\n",
    "ada = ADASYN()\n",
    "SMOTE = SMOTE()\n",
    "scaler = StandardScaler()\n",
    "normalizer = Normalizer()\n",
    "robust = RobustScaler()\n",
    "minmax = MinMaxScaler()\n",
    "\n",
    "X_train = pd.read_csv('/Users/harock96/Documents/2021년 1학기/인공지능/프로젝트/데이터 전처리/X_train.csv')\n",
    "Y_train = pd.read_csv('/Users/harock96/Documents/2021년 1학기/인공지능/프로젝트/데이터 전처리/Y_train.csv')\n",
    "X_test = pd.read_csv('/Users/harock96/Documents/2021년 1학기/인공지능/프로젝트/데이터 전처리/X_test.csv')\n",
    "Y_test = pd.read_csv('/Users/harock96/Documents/2021년 1학기/인공지능/프로젝트/데이터 전처리/Y_test.csv')\n",
    "\n",
    "# data number 삭제\n",
    "\n",
    "X_train = X_train.iloc[:, 1:]\n",
    "Y_train = Y_train.iloc[:, 1:]\n",
    "X_test = X_test.iloc[:, 1:]\n",
    "Y_test = Y_test.iloc[:, 1:]\n",
    "\n",
    "# 오버샘플링\n",
    "\n",
    "X_train_ros, Y_train_ros = over_sampler.fit_resample(X_train, Y_train)\n",
    "X_train_ada, Y_train_ada = ada.fit_resample(X_train, Y_train)\n",
    "X_train_smt, Y_train_smt = SMOTE.fit_resample(X_train, Y_train)\n",
    "X_test_ros, Y_test_ros = over_sampler.fit_resample(X_test, Y_test)\n",
    "X_test_ada, Y_test_ada = ada.fit_resample(X_test, Y_test)\n",
    "X_test_smt, Y_test_smt = SMOTE.fit_resample(X_test, Y_test)\n",
    "\n",
    "\n",
    "# shuffle\n",
    "\n",
    "s1 = np.arange(X_train_ros.shape[0])\n",
    "np.random.shuffle(s1)\n",
    "X_train_ros = X_train_ros.iloc[s1]\n",
    "Y_train_ros = Y_train_ros.iloc[s1]\n",
    "\n",
    "s2 = np.arange(X_train_ada.shape[0])\n",
    "np.random.shuffle(s2)\n",
    "X_train_ada = X_train_ada.iloc[s2]\n",
    "Y_train_ada = Y_train_ada.iloc[s2]\n",
    "\n",
    "s3 = np.arange(X_train_smt.shape[0])\n",
    "np.random.shuffle(s3)\n",
    "X_train_smt = X_train_smt.iloc[s3]\n",
    "Y_train_smt = Y_train_smt.iloc[s3]\n",
    "\n",
    "s4 = np.arange(X_test.shape[0])\n",
    "np.random.shuffle(s4)\n",
    "X_test = X_test.iloc[s4]\n",
    "Y_test = Y_test.iloc[s4]\n",
    "\n",
    "s5 = np.arange(X_test_smt.shape[0])\n",
    "np.random.shuffle(s5)\n",
    "X_test_smt = X_test_smt.iloc[s5]\n",
    "Y_test_smt = Y_test_smt.iloc[s5]\n",
    "\n",
    "s6 = np.arange(X_test_ros.shape[0])\n",
    "np.random.shuffle(s6)\n",
    "X_test_ros = X_test_ros.iloc[s6]\n",
    "Y_test_ros = Y_test_ros.iloc[s6]\n",
    "\n",
    "s7 = np.arange(X_test_ada.shape[0])\n",
    "np.random.shuffle(s7)\n",
    "X_test_ada = X_test_ada.iloc[s7]\n",
    "Y_test_ada = Y_test_ada.iloc[s7]\n",
    "\n",
    "# numpy 배열로 변환\n",
    "\n",
    "X_test = X_test.values\n",
    "Y_test = Y_test.values\n",
    "X_train_smt = X_train_smt.values\n",
    "Y_train_smt = Y_train_smt.values\n",
    "X_train_ada = X_train_ada.values\n",
    "Y_train_ada = Y_train_ada.values\n",
    "X_train_ros = X_train_ros.values\n",
    "Y_train_ros = Y_train_ros.values\n",
    "X_test_smt = X_test_smt.values\n",
    "Y_test_smt = Y_test_smt.values\n",
    "X_test_ada = X_test_ada.values\n",
    "Y_test_ada = Y_test_ada.values\n",
    "X_test_ros = X_test_ros.values\n",
    "Y_test_ros = Y_test_ros.values\n",
    "\n",
    "# normalizer\n",
    "\n",
    "X_train_ros = normalizer.fit_transform(X_train_ros)\n",
    "X_train_ada = normalizer.fit_transform(X_train_ada)\n",
    "X_train_smt = normalizer.fit_transform(X_train_smt)\n",
    "X_test_ros = normalizer.transform(X_test_ros)\n",
    "X_test_ada = normalizer.transform(X_test_ada)\n",
    "X_test_smt = normalizer.transform(X_test_smt)\n",
    "X_test = normalizer.transform(X_test)\n",
    "\n",
    "# minmax\n",
    "\n",
    "#X_train_ros = minmax.fit_transform(X_train_ros)\n",
    "#X_train_ada = minmax.fit_transform(X_train_ada)\n",
    "#X_train_smt = minmax.fit_transform(X_train_smt)\n",
    "#X_test_ros = minmax.transform(X_test_ros)\n",
    "#X_test_ada = minmax.transform(X_test_ada)\n",
    "#X_test_smt = minmax.transform(X_test_smt)\n",
    "#X_test = minmax.transform(X_test)\n",
    "\n",
    "# robustscaler\n",
    "\n",
    "#X_train_ros = robust.fit_transform(X_train_ros)\n",
    "#X_train_ada = robust.fit_transform(X_train_ada)\n",
    "#X_train_smt = robust.fit_transform(X_train_smt)\n",
    "#X_test_ros = robust.transform(X_test_ros)\n",
    "#X_test_ada = robust.transform(X_test_ada)\n",
    "#X_test_smt = robust.transform(X_test_smt)\n",
    "#X_test = robust.transform(X_test)\n",
    "\n",
    "# Standardscaler\n",
    "\n",
    "#X_train_ros = scaler.fit_transform(X_train_ros)\n",
    "#X_train_ada = scaler.fit_transform(X_train_ada)\n",
    "#X_train_smt = scaler.fit_transform(X_train_smt)\n",
    "#X_test_ros = scaler.transform(X_test_ros)\n",
    "#X_test_ada = scaler.transform(X_test_ada)\n",
    "#X_test_smt = scaler.transform(X_test_smt)\n",
    "#X_test = scaler.transform(X_test)"
   ]
  },
  {
   "cell_type": "code",
   "execution_count": 38,
   "metadata": {},
   "outputs": [
    {
     "name": "stdout",
     "output_type": "stream",
     "text": [
      "68253\n"
     ]
    }
   ],
   "source": [
    "print(list(Y_test).count(0))"
   ]
  },
  {
   "cell_type": "code",
   "execution_count": 16,
   "metadata": {},
   "outputs": [],
   "source": [
    "from keras import backend as K\n",
    "\n",
    "def recall_m(y_true, y_pred):\n",
    "    true_positives = K.sum(K.round(K.clip(y_true * y_pred, 0, 1)))\n",
    "    possible_positives = K.sum(K.round(K.clip(y_true, 0, 1)))\n",
    "    recall = true_positives / (possible_positives + K.epsilon())\n",
    "    return recall\n",
    "\n",
    "def precision_m(y_true, y_pred):\n",
    "    true_positives = K.sum(K.round(K.clip(y_true * y_pred, 0, 1)))\n",
    "    predicted_positives = K.sum(K.round(K.clip(y_pred, 0, 1)))\n",
    "    precision = true_positives / (predicted_positives + K.epsilon())\n",
    "    return precision\n",
    "\n",
    "def f1_m(y_true, y_pred):\n",
    "    precision = precision_m(y_true, y_pred)\n",
    "    recall = recall_m(y_true, y_pred)\n",
    "    return 2*((precision*recall)/(precision+recall+K.epsilon()))"
   ]
  },
  {
   "cell_type": "code",
   "execution_count": 17,
   "metadata": {
    "scrolled": true
   },
   "outputs": [
    {
     "name": "stdout",
     "output_type": "stream",
     "text": [
      "Model: \"sequential_3\"\n",
      "_________________________________________________________________\n",
      "Layer (type)                 Output Shape              Param #   \n",
      "=================================================================\n",
      "dense_6 (Dense)              (None, 10)                310       \n",
      "_________________________________________________________________\n",
      "dense_7 (Dense)              (None, 1)                 11        \n",
      "=================================================================\n",
      "Total params: 321\n",
      "Trainable params: 321\n",
      "Non-trainable params: 0\n",
      "_________________________________________________________________\n"
     ]
    }
   ],
   "source": [
    "# model 구현\n",
    "model = keras.Sequential()\n",
    "model.add(keras.layers.Dense(10,activation = 'relu', input_shape = (30,)))\n",
    "#model.add(keras.layers.Dense(45,activation = 'relu'))\n",
    "#model.add(keras.layers.Dense(45,activation = 'relu'))\n",
    "model.add(keras.layers.Dense(1, activation = 'sigmoid'))\n",
    "\n",
    "# 'rmsprop'는 optimizer default값\n",
    "model.compile(optimizer = 'adam', loss ='binary_crossentropy', metrics = ['accuracy', recall_m, precision_m, f1_m])\n",
    "model.summary()"
   ]
  },
  {
   "cell_type": "code",
   "execution_count": null,
   "metadata": {
    "scrolled": true
   },
   "outputs": [
    {
     "name": "stdout",
     "output_type": "stream",
     "text": [
      "Epoch 1/5\n"
     ]
    }
   ],
   "source": [
    "# node = 45, layer = 1, resampling = smt # scaling = normalizer\n",
    "history = model.fit(X_train_smt, Y_train_smt, epochs = 5, verbose = 1, validation_data = (X_test_smt, Y_test_smt))"
   ]
  },
  {
   "cell_type": "code",
   "execution_count": 59,
   "metadata": {},
   "outputs": [
    {
     "name": "stdout",
     "output_type": "stream",
     "text": [
      "dict_keys(['loss', 'accuracy', 'recall_m', 'precision_m', 'f1_m', 'val_loss', 'val_accuracy', 'val_recall_m', 'val_precision_m', 'val_f1_m'])\n"
     ]
    }
   ],
   "source": [
    "print(history.history.keys())"
   ]
  },
  {
   "cell_type": "code",
   "execution_count": 60,
   "metadata": {
    "scrolled": true
   },
   "outputs": [
    {
     "data": {
      "image/png": "[encoded data removed]",
      "text/plain": [
       "<Figure size 432x288 with 1 Axes>"
      ]
     },
     "metadata": {
      "needs_background": "light"
     },
     "output_type": "display_data"
    }
   ],
   "source": [
    "plt.plot(history.history['loss'])\n",
    "plt.plot(history.history['val_loss'])\n",
    "plt.xlabel('epoch')\n",
    "plt.ylabel('loss')\n",
    "plt.legend(['train', 'val'])\n",
    "plt.show()"
   ]
  },
  {
   "cell_type": "code",
   "execution_count": 61,
   "metadata": {},
   "outputs": [
    {
     "data": {
      "image/png": "[encoded data removed]",
      "text/plain": [
       "<Figure size 432x288 with 1 Axes>"
      ]
     },
     "metadata": {
      "needs_background": "light"
     },
     "output_type": "display_data"
    }
   ],
   "source": [
    "plt.plot(history.history['recall_m'])\n",
    "plt.plot(history.history['val_recall_m'])\n",
    "plt.xlabel('epoch')\n",
    "plt.ylabel('recall')\n",
    "plt.legend(['train', 'val'])\n",
    "plt.show()"
   ]
  },
  {
   "cell_type": "code",
   "execution_count": 62,
   "metadata": {},
   "outputs": [
    {
     "data": {
      "image/png": "[encoded data removed]",
      "text/plain": [
       "<Figure size 432x288 with 1 Axes>"
      ]
     },
     "metadata": {
      "needs_background": "light"
     },
     "output_type": "display_data"
    }
   ],
   "source": [
    "plt.plot(history.history['precision_m'])\n",
    "plt.plot(history.history['val_precision_m'])\n",
    "plt.xlabel('epoch')\n",
    "plt.ylabel('precision')\n",
    "plt.legend(['train', 'val'])\n",
    "plt.show()"
   ]
  },
  {
   "cell_type": "code",
   "execution_count": 63,
   "metadata": {},
   "outputs": [
    {
     "data": {
      "image/png": "[encoded data removed]",
      "text/plain": [
       "<Figure size 432x288 with 1 Axes>"
      ]
     },
     "metadata": {
      "needs_background": "light"
     },
     "output_type": "display_data"
    }
   ],
   "source": [
    "plt.plot(history.history['f1_m'])\n",
    "plt.plot(history.history['val_f1_m'])\n",
    "plt.xlabel('epoch')\n",
    "plt.ylabel('f1')\n",
    "plt.legend(['train', 'val'])\n",
    "plt.show()"
   ]
  }
 ],
 "metadata": {
  "kernelspec": {
   "display_name": "Python 3",
   "language": "python",
   "name": "python3"
  },
  "language_info": {
   "codemirror_mode": {
    "name": "ipython",
    "version": 3
   },
   "file_extension": ".py",
   "mimetype": "text/x-python",
   "name": "python",
   "nbconvert_exporter": "python",
   "pygments_lexer": "ipython3",
   "version": "3.8.5"
  }
 },
 "nbformat": 4,
 "nbformat_minor": 4
}
